{
 "cells": [
  {
   "cell_type": "code",
   "execution_count": 1,
   "metadata": {
    "colab": {
     "base_uri": "https://localhost:8080/"
    },
    "id": "WbJzO4TTP1kF",
    "outputId": "26889a1e-aa39-4206-c289-1ddcf088e3d1"
   },
   "outputs": [
    {
     "name": "stdout",
     "output_type": "stream",
     "text": [
      "Looking in indexes: https://pypi.org/simple, https://us-python.pkg.dev/colab-wheels/public/simple/\n",
      "Requirement already satisfied: scikit-learn in /usr/local/lib/python3.7/dist-packages (1.0.2)\n",
      "Requirement already satisfied: joblib>=0.11 in /usr/local/lib/python3.7/dist-packages (from scikit-learn) (1.1.0)\n",
      "Requirement already satisfied: scipy>=1.1.0 in /usr/local/lib/python3.7/dist-packages (from scikit-learn) (1.7.3)\n",
      "Requirement already satisfied: numpy>=1.14.6 in /usr/local/lib/python3.7/dist-packages (from scikit-learn) (1.21.6)\n",
      "Requirement already satisfied: threadpoolctl>=2.0.0 in /usr/local/lib/python3.7/dist-packages (from scikit-learn) (3.1.0)\n"
     ]
    }
   ],
   "source": [
    "!pip install -U scikit-learn"
   ]
  },
  {
   "cell_type": "code",
   "execution_count": 2,
   "metadata": {
    "id": "kz7F4X2hSJw7"
   },
   "outputs": [],
   "source": [
    "import os\n",
    "from os import path\n",
    "import pandas as pd\n",
    "\n",
    "data_test = pd.read_csv('/content/drive/MyDrive/BERT/SA/VNCore_test_data_13.csv')\n",
    "data_train = pd.read_csv('/content/drive/MyDrive/BERT/SA/VNCore_train_data_13.csv')\n"
   ]
  },
  {
   "cell_type": "code",
   "execution_count": 3,
   "metadata": {
    "id": "WohZkGKhCPUc"
   },
   "outputs": [],
   "source": [
    "import os\n",
    "from os import path\n",
    "import glob\n",
    "import pandas as pd\n",
    "import json\n",
    "import regex as re"
   ]
  },
  {
   "cell_type": "code",
   "execution_count": 4,
   "metadata": {
    "colab": {
     "base_uri": "https://localhost:8080/"
    },
    "id": "cZiwc21ppv7j",
    "outputId": "85037475-ceef-453c-8f12-54964603e381"
   },
   "outputs": [
    {
     "name": "stdout",
     "output_type": "stream",
     "text": [
      "0         5 Game_Android miễn_phí được yêu thích nhất th...\n",
      "1         Dota 2 : 3 game thủ Việt bị cấm vĩnh_viễn khỏi...\n",
      "2         Tướng mới LMHT có tên Elma – Phù_Thuỷ Lang_Tha...\n",
      "3         Kỵ_Sĩ Rồng – Dragon_Knights chính_thức đóng_cử...\n",
      "4         LMHT : Thêm trang_bị mới cộng giáp cho AP , li...\n",
      "                                ...                        \n",
      "119589    Lầu_Năm_Góc điều_động quân_đội đến thủ_đô giữa...\n",
      "119590    Căn_cứ_quân_sự Syria bị nã tên_lửa dồn_dập . M...\n",
      "119591    Bà mẹ hoảng_loạn báo con 5 tuổi mất_tích , cản...\n",
      "119592    Bầu_cử Mỹ 2020 : Tổng_thống Trump đề_xuất hoãn...\n",
      "119593    Trokosi : Thứ hủ_tục ám_ảnh phá nát đời của nh...\n",
      "Name: content, Length: 119594, dtype: object 0        Năm sản_phẩm du_lịch hoàn_chỉnh theo trục trọn...\n",
      "1        Du_lịch hè 2020 : ' Ăn_chơi không sợ mưa rơi '...\n",
      "2        Ốc_đảo Siwa - hòn ngọc xanh giữa sa_mạc Sahara...\n",
      "3        “ Hướng_dẫn_viên du_lịch Việt_Nam hoàn_toàn có...\n",
      "4        Cơ_hội luôn xuất_hiện ngay trong khó_khăn . Vă...\n",
      "                               ...                        \n",
      "29768    Đạo_diễn Nguyễn_Quang_Dũng : Làm phim nào tôi ...\n",
      "29769    ‘ Mỹ_nhân ngư ’ Trương_Vũ_Kỳ cãi_vã , xô_xát k...\n",
      "29770    Nhan_sắc hút_hồn của mỹ nam \" Lấy_Danh_Nghĩa_N...\n",
      "29771    Cặp đôi Lưu_Ly Mỹ_Nhân Sát bất_ngờ thống_trị m...\n",
      "29772    Paris_Jackson chia_tay bạn trai . Con gái Mich...\n",
      "Name: content, Length: 29773, dtype: object 0             game\n",
      "1             game\n",
      "2             game\n",
      "3             game\n",
      "4             game\n",
      "            ...   \n",
      "119589    the-gioi\n",
      "119590    the-gioi\n",
      "119591    the-gioi\n",
      "119592    the-gioi\n",
      "119593    the-gioi\n",
      "Name: label, Length: 119594, dtype: object 0         du-lich\n",
      "1         du-lich\n",
      "2         du-lich\n",
      "3         du-lich\n",
      "4         du-lich\n",
      "           ...   \n",
      "29768    giai-tri\n",
      "29769    giai-tri\n",
      "29770    giai-tri\n",
      "29771    giai-tri\n",
      "29772    giai-tri\n",
      "Name: label, Length: 29773, dtype: object\n"
     ]
    }
   ],
   "source": [
    "X_train, X_test, y_train, y_test = data_train['content'], data_test['content'], data_train['label'], data_test['label']\n",
    "\n",
    "print(X_train, X_test, y_train, y_test)\n"
   ]
  },
  {
   "cell_type": "code",
   "execution_count": 5,
   "metadata": {
    "id": "-jlG3cZqcavB"
   },
   "outputs": [],
   "source": [
    "# for i in range(len(X_train)):\n",
    "#   X_train[i] = X_train[i].lower()"
   ]
  },
  {
   "cell_type": "code",
   "execution_count": 6,
   "metadata": {
    "id": "9qBAc7cvcyp0"
   },
   "outputs": [],
   "source": [
    "# for i in range(len(X_test)):\n",
    "#   X_test[i] = X_test[i].lower()"
   ]
  },
  {
   "cell_type": "code",
   "execution_count": 7,
   "metadata": {
    "colab": {
     "base_uri": "https://localhost:8080/"
    },
    "id": "w7IzC91Kc6vy",
    "outputId": "9b793800-112d-4d84-ed05-10984be322ac"
   },
   "outputs": [
    {
     "name": "stdout",
     "output_type": "stream",
     "text": [
      "0         5 Game_Android miễn_phí được yêu thích nhất th...\n",
      "1         Dota 2 : 3 game thủ Việt bị cấm vĩnh_viễn khỏi...\n",
      "2         Tướng mới LMHT có tên Elma – Phù_Thuỷ Lang_Tha...\n",
      "3         Kỵ_Sĩ Rồng – Dragon_Knights chính_thức đóng_cử...\n",
      "4         LMHT : Thêm trang_bị mới cộng giáp cho AP , li...\n",
      "                                ...                        \n",
      "119589    Lầu_Năm_Góc điều_động quân_đội đến thủ_đô giữa...\n",
      "119590    Căn_cứ_quân_sự Syria bị nã tên_lửa dồn_dập . M...\n",
      "119591    Bà mẹ hoảng_loạn báo con 5 tuổi mất_tích , cản...\n",
      "119592    Bầu_cử Mỹ 2020 : Tổng_thống Trump đề_xuất hoãn...\n",
      "119593    Trokosi : Thứ hủ_tục ám_ảnh phá nát đời của nh...\n",
      "Name: content, Length: 119594, dtype: object 0        Năm sản_phẩm du_lịch hoàn_chỉnh theo trục trọn...\n",
      "1        Du_lịch hè 2020 : ' Ăn_chơi không sợ mưa rơi '...\n",
      "2        Ốc_đảo Siwa - hòn ngọc xanh giữa sa_mạc Sahara...\n",
      "3        “ Hướng_dẫn_viên du_lịch Việt_Nam hoàn_toàn có...\n",
      "4        Cơ_hội luôn xuất_hiện ngay trong khó_khăn . Vă...\n",
      "                               ...                        \n",
      "29768    Đạo_diễn Nguyễn_Quang_Dũng : Làm phim nào tôi ...\n",
      "29769    ‘ Mỹ_nhân ngư ’ Trương_Vũ_Kỳ cãi_vã , xô_xát k...\n",
      "29770    Nhan_sắc hút_hồn của mỹ nam \" Lấy_Danh_Nghĩa_N...\n",
      "29771    Cặp đôi Lưu_Ly Mỹ_Nhân Sát bất_ngờ thống_trị m...\n",
      "29772    Paris_Jackson chia_tay bạn trai . Con gái Mich...\n",
      "Name: content, Length: 29773, dtype: object\n"
     ]
    }
   ],
   "source": [
    "print(X_train, X_test)"
   ]
  },
  {
   "cell_type": "code",
   "execution_count": 8,
   "metadata": {
    "colab": {
     "base_uri": "https://localhost:8080/"
    },
    "id": "x7i1VqIZ96cX",
    "outputId": "67d31230-33db-4945-a7b3-4b5d5e65ae7b"
   },
   "outputs": [
    {
     "name": "stdout",
     "output_type": "stream",
     "text": [
      "{'du-lich': 2500, 'the-gioi': 2500, 'the-thao': 2500, 'suc-khoe': 2500, 'phap-luat': 2500, 'doi-song': 2500, 'game': 2500, 'kinh-doanh': 2500, 'giao-duc': 2380, 'xe': 2393, 'cong-nghe': 2500, 'giai-tri': 2500}\n"
     ]
    }
   ],
   "source": [
    "i = {}\n",
    "count = 0\n",
    "\n",
    "for d in y_test:\n",
    "    if d in i:\n",
    "        i[d] += 1;\n",
    "    else: \n",
    "        i[d] = 1\n",
    "print(i)"
   ]
  },
  {
   "cell_type": "code",
   "execution_count": 9,
   "metadata": {
    "colab": {
     "base_uri": "https://localhost:8080/"
    },
    "id": "GvYgqRgq-PRm",
    "outputId": "6de56917-9f09-4d51-c10e-e5eb933a8096"
   },
   "outputs": [
    {
     "name": "stdout",
     "output_type": "stream",
     "text": [
      "{'game': 10501, 'giai-tri': 10000, 'phap-luat': 10000, 'suc-khoe': 10000, 'kinh-doanh': 10000, 'du-lich': 10000, 'xe': 9572, 'doi-song': 10000, 'cong-nghe': 10000, 'giao-duc': 9521, 'the-thao': 10000, 'the-gioi': 10000}\n"
     ]
    }
   ],
   "source": [
    "i = {}\n",
    "count = 0\n",
    "\n",
    "for d in y_train:\n",
    "    if d in i:\n",
    "        i[d] += 1;\n",
    "    else: \n",
    "        i[d] = 1\n",
    "print(i)"
   ]
  },
  {
   "cell_type": "code",
   "execution_count": 10,
   "metadata": {
    "colab": {
     "base_uri": "https://localhost:8080/"
    },
    "id": "ghIPi8g2D8hw",
    "outputId": "3e43e88a-c799-4aec-a8b8-3e70e28ebe2b"
   },
   "outputs": [
    {
     "name": "stdout",
     "output_type": "stream",
     "text": [
      "/content/drive/MyDrive/NLP_data\n"
     ]
    }
   ],
   "source": [
    "%cd /content/drive/MyDrive/NLP_data"
   ]
  },
  {
   "cell_type": "code",
   "execution_count": 11,
   "metadata": {
    "colab": {
     "base_uri": "https://localhost:8080/"
    },
    "id": "EbSKVyxOEoUP",
    "outputId": "4c89d543-cede-4098-c962-4c0c456e1c06"
   },
   "outputs": [
    {
     "name": "stdout",
     "output_type": "stream",
     "text": [
      "/content/drive/MyDrive/NLP_data\n"
     ]
    }
   ],
   "source": [
    "!pwd"
   ]
  },
  {
   "cell_type": "code",
   "execution_count": 12,
   "metadata": {
    "id": "UMzpiBz8vHRO"
   },
   "outputs": [],
   "source": [
    "from sklearn.preprocessing import LabelEncoder\n",
    "\n",
    "encoder = LabelEncoder()\n",
    "\n",
    "y_train = encoder.fit_transform(y_train)\n",
    "y_test = encoder.fit_transform(y_test)"
   ]
  },
  {
   "cell_type": "code",
   "execution_count": 13,
   "metadata": {
    "colab": {
     "base_uri": "https://localhost:8080/"
    },
    "id": "SY6RpCsymjwA",
    "outputId": "d46a64bd-f807-411d-8e05-fbd2edf0f942"
   },
   "outputs": [
    {
     "name": "stdout",
     "output_type": "stream",
     "text": [
      "12\n"
     ]
    }
   ],
   "source": [
    "sum_label =list(encoder.classes_)\n",
    "\n",
    "print(len(sum_label))\n"
   ]
  },
  {
   "cell_type": "code",
   "execution_count": 14,
   "metadata": {
    "colab": {
     "base_uri": "https://localhost:8080/"
    },
    "id": "bpcIgfxA4NZl",
    "outputId": "f5f4185d-392d-4188-a000-7897f8a28eff"
   },
   "outputs": [
    {
     "name": "stdout",
     "output_type": "stream",
     "text": [
      "{3: 10501, 4: 10000, 7: 10000, 8: 10000, 6: 10000, 2: 10000, 11: 9572, 1: 10000, 0: 10000, 5: 9521, 10: 10000, 9: 10000}\n"
     ]
    }
   ],
   "source": [
    "i = {}\n",
    "count = 0\n",
    "\n",
    "for d in y_train:\n",
    "    if d in i:\n",
    "        i[d] += 1;\n",
    "    else: \n",
    "        i[d] = 1\n",
    "\n",
    "print(i)"
   ]
  },
  {
   "cell_type": "code",
   "execution_count": 15,
   "metadata": {
    "id": "F-u04sTEN0Fx"
   },
   "outputs": [],
   "source": [
    "from sklearn.feature_extraction.text import CountVectorizer\n",
    "from sklearn.feature_extraction.text import TfidfTransformer\n",
    "from sklearn.pipeline import Pipeline\n",
    "from sklearn.svm import LinearSVC\n",
    " \n",
    "\n",
    "# text_clf = Pipeline([('vect', CountVectorizer(ngram_range=(1,1),\n",
    "#                                              max_df=0.7,\n",
    "#                                              max_features=None)), \n",
    "#                      ('tfidf', TfidfTransformer()),\n",
    "#                      ('clf', LinearSVC(C=5, max_iter=10000))\n",
    "#                     ])\n",
    "\n",
    "# text_clf = text_clf.fit(X_train, y_train)"
   ]
  },
  {
   "cell_type": "code",
   "execution_count": 16,
   "metadata": {
    "colab": {
     "base_uri": "https://localhost:8080/"
    },
    "id": "O3TQh5uxEqiR",
    "outputId": "1c8b27a3-2f44-40cf-e650-24d181920432"
   },
   "outputs": [
    {
     "name": "stdout",
     "output_type": "stream",
     "text": [
      "[Errno 2] No such file or directory: 'MyDrive'\n",
      "/content/drive/MyDrive/NLP_data\n"
     ]
    }
   ],
   "source": [
    "%cd MyDrive"
   ]
  },
  {
   "cell_type": "code",
   "execution_count": 17,
   "metadata": {
    "id": "3WRxaS3KD7M-"
   },
   "outputs": [],
   "source": [
    "import pickle\n",
    "# pickle.dump(text_clf, open(os.path.join(\"Model_NLP\", \"SVM_13.pkl\"), 'wb'))"
   ]
  },
  {
   "cell_type": "code",
   "execution_count": 18,
   "metadata": {
    "id": "BpUuZuLtYip7"
   },
   "outputs": [],
   "source": [
    "# y_pred = text_clf.predict(X_test)"
   ]
  },
  {
   "cell_type": "code",
   "execution_count": 19,
   "metadata": {
    "id": "0SdKApMPNUW7"
   },
   "outputs": [],
   "source": [
    "# from sklearn.metrics import classification_report, confusion_matrix\n",
    "\n",
    "# encoder.inverse_transform(y_test)\n",
    "# print(y_test)\n",
    "# encoder.inverse_transform(y_pred)\n",
    "# print(classification_report(y_test,y_pred,target_names = sum_label))\n",
    "# print(classification_report(y_test,y_pred))\n",
    "# print(confusion_matrix(y_test,y_pred,labels = ['game', 'giai tri', 'phap luat', 'suc khoe', 'kinh_doanh', 'du lich', 'xe', 'doi song', 'cong nghe', 'giao duc', 'the thao', 'the gioi']))"
   ]
  },
  {
   "cell_type": "code",
   "execution_count": 20,
   "metadata": {
    "id": "3wzuVclnFDsF"
   },
   "outputs": [],
   "source": [
    "model = pickle.load(open(os.path.join(\"/content/drive/MyDrive/Model_NLP\",\"SVM_13.pkl\"), 'rb'))"
   ]
  },
  {
   "cell_type": "code",
   "execution_count": 21,
   "metadata": {
    "id": "58tpWUzYFP2s"
   },
   "outputs": [],
   "source": [
    "y_pred = model.predict(X_test)"
   ]
  },
  {
   "cell_type": "code",
   "execution_count": 22,
   "metadata": {
    "colab": {
     "base_uri": "https://localhost:8080/"
    },
    "id": "omVWlUQsu-jG",
    "outputId": "5eb4b4f1-448b-406a-8394-360eb2841578"
   },
   "outputs": [
    {
     "name": "stdout",
     "output_type": "stream",
     "text": [
      "              precision    recall  f1-score   support\n",
      "\n",
      "   cong-nghe       0.97      0.96      0.96      2500\n",
      "    doi-song       0.95      0.95      0.95      2500\n",
      "     du-lich       0.98      0.97      0.97      2500\n",
      "        game       0.98      0.98      0.98      2500\n",
      "    giai-tri       0.96      0.97      0.96      2500\n",
      "    giao-duc       0.97      0.98      0.98      2380\n",
      "  kinh-doanh       0.96      0.96      0.96      2500\n",
      "   phap-luat       0.98      0.97      0.98      2500\n",
      "    suc-khoe       0.97      0.97      0.97      2500\n",
      "    the-gioi       0.96      0.97      0.96      2500\n",
      "    the-thao       0.99      0.99      0.99      2500\n",
      "          xe       0.99      0.98      0.98      2393\n",
      "\n",
      "    accuracy                           0.97     29773\n",
      "   macro avg       0.97      0.97      0.97     29773\n",
      "weighted avg       0.97      0.97      0.97     29773\n",
      "\n"
     ]
    }
   ],
   "source": [
    "from sklearn.metrics import classification_report\n",
    "y_pred = encoder.inverse_transform(y_pred)\n",
    "y_test = encoder.inverse_transform(y_test)\n",
    "print(classification_report(y_test, y_pred))"
   ]
  },
  {
   "cell_type": "code",
   "execution_count": 23,
   "metadata": {
    "colab": {
     "base_uri": "https://localhost:8080/"
    },
    "id": "1uzt-T4YFch3",
    "outputId": "ee4bed0d-b58a-43ca-eb5f-7b61b1bdeeea"
   },
   "outputs": [
    {
     "name": "stdout",
     "output_type": "stream",
     "text": [
      "              precision    recall  f1-score   support\n",
      "\n",
      "   cong-nghe       0.97      0.96      0.96      2500\n",
      "    doi-song       0.95      0.95      0.95      2500\n",
      "     du-lich       0.98      0.97      0.97      2500\n",
      "        game       0.98      0.98      0.98      2500\n",
      "    giai-tri       0.96      0.97      0.96      2500\n",
      "    giao-duc       0.97      0.98      0.98      2380\n",
      "  kinh-doanh       0.96      0.96      0.96      2500\n",
      "   phap-luat       0.98      0.97      0.98      2500\n",
      "    suc-khoe       0.97      0.97      0.97      2500\n",
      "    the-gioi       0.96      0.97      0.96      2500\n",
      "    the-thao       0.99      0.99      0.99      2500\n",
      "          xe       0.99      0.98      0.98      2393\n",
      "\n",
      "    accuracy                           0.97     29773\n",
      "   macro avg       0.97      0.97      0.97     29773\n",
      "weighted avg       0.97      0.97      0.97     29773\n",
      "\n"
     ]
    }
   ],
   "source": [
    "print(classification_report(y_test,y_pred))"
   ]
  }
 ],
 "metadata": {
  "colab": {
   "collapsed_sections": [],
   "provenance": []
  },
  "gpuClass": "standard",
  "kernelspec": {
   "display_name": "Python 3 (ipykernel)",
   "language": "python",
   "name": "python3"
  },
  "language_info": {
   "codemirror_mode": {
    "name": "ipython",
    "version": 3
   },
   "file_extension": ".py",
   "mimetype": "text/x-python",
   "name": "python",
   "nbconvert_exporter": "python",
   "pygments_lexer": "ipython3",
   "version": "3.8.10"
  }
 },
 "nbformat": 4,
 "nbformat_minor": 1
}
