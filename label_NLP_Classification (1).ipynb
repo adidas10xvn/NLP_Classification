{
 "cells": [
  {
   "cell_type": "code",
   "execution_count": 73,
   "metadata": {
    "colab": {
     "base_uri": "https://localhost:8080/"
    },
    "id": "WbJzO4TTP1kF",
    "outputId": "fe7d678f-f730-4150-d43f-e48fc3b2cacf"
   },
   "outputs": [
    {
     "name": "stdout",
     "output_type": "stream",
     "text": [
      "Looking in indexes: https://pypi.org/simple, https://us-python.pkg.dev/colab-wheels/public/simple/\n",
      "Requirement already satisfied: scikit-learn in /usr/local/lib/python3.7/dist-packages (1.0.2)\n",
      "Requirement already satisfied: threadpoolctl>=2.0.0 in /usr/local/lib/python3.7/dist-packages (from scikit-learn) (3.1.0)\n",
      "Requirement already satisfied: numpy>=1.14.6 in /usr/local/lib/python3.7/dist-packages (from scikit-learn) (1.21.6)\n",
      "Requirement already satisfied: joblib>=0.11 in /usr/local/lib/python3.7/dist-packages (from scikit-learn) (1.1.0)\n",
      "Requirement already satisfied: scipy>=1.1.0 in /usr/local/lib/python3.7/dist-packages (from scikit-learn) (1.7.3)\n"
     ]
    }
   ],
   "source": [
    "!pip install -U scikit-learn"
   ]
  },
  {
   "cell_type": "code",
   "execution_count": 74,
   "metadata": {
    "id": "kz7F4X2hSJw7"
   },
   "outputs": [],
   "source": [
    "import os\n",
    "from os import path\n",
    "import pandas as pd\n",
    "\n",
    "data_test = pd.read_csv('/content/drive/MyDrive/BERT/SA/VNCore_test_data_54.csv')\n",
    "data_train = pd.read_csv('/content/drive/MyDrive/BERT/SA/VNCore_train_data_54.csv')\n"
   ]
  },
  {
   "cell_type": "code",
   "execution_count": 75,
   "metadata": {
    "id": "WohZkGKhCPUc"
   },
   "outputs": [],
   "source": [
    "import os\n",
    "from os import path\n",
    "import glob\n",
    "import pandas as pd\n",
    "import json\n",
    "import regex as re"
   ]
  },
  {
   "cell_type": "code",
   "execution_count": 76,
   "metadata": {
    "colab": {
     "base_uri": "https://localhost:8080/"
    },
    "id": "cZiwc21ppv7j",
    "outputId": "3618d133-28ea-4848-ec7f-3fa63df30d67"
   },
   "outputs": [
    {
     "name": "stdout",
     "output_type": "stream",
     "text": [
      "0         VBA by MB 2019 Game 21 : Hochiminh_City_Wings ...\n",
      "1         Tiêu_điểm NBA ngày 21/1 : LeBron_James và đồng...\n",
      "2         Playoffs miền Đông_NBA 2018 : Oladipo đe_doạ K...\n",
      "3         Xảy chân cuối trận , Knicks gục ngã đáng tiếc ...\n",
      "4         Đánh_bại Irving , Warriors nối dài mạch thắng ...\n",
      "                                ...                        \n",
      "122950    Gian_lận thi : Phần_mềm dùng từ 2016 , các kỳ ...\n",
      "122951    Siết chặt kỷ_luật , kỷ_cương trong công_tác xâ...\n",
      "122952    Về Hiệp_định Biên_giới Việt – Trung và Hiệp_đị...\n",
      "122953    Chỉ_đạo chiến_lược của Bộ_Chính_trị mùa Xuân 1...\n",
      "122954    Facebook , Google không chịu gỡ tin xấu độc : ...\n",
      "Name: content, Length: 122955, dtype: object 0        Triển_lãm du_học trung_học Mỹ , Canada , Austr...\n",
      "1        Chọn học ngành bác_sĩ nha_khoa tại MISD . MISD...\n",
      "2        Giảm 50% phí hoàn_tất thủ_tục du_học . Chương_...\n",
      "3        Đường vào Đại_học Tây_Úc , Australia . Taylors...\n",
      "4        Du học ngành Thiết kế thời trang tại Raf...\n",
      "                               ...                        \n",
      "30708    Đường_vành_đai phía Tây Đà_Nẵng : Ngưng dây_ch...\n",
      "30709    Dự_báo thời_tiết 22/6 : Hà_Nội nắng_nóng trên ...\n",
      "30710    Cà_Mau “ rót ” gần 100 tỷ đồng xử_lý khẩn_cấp ...\n",
      "30711    Bão_Podul đổ_bộ Quảng_Bình - KhoaHoc.tv. Sáng ...\n",
      "30712    Bão số 6 suy_yếu thành một vùng áp_thấp , Bắc_...\n",
      "Name: content, Length: 30713, dtype: object 0           bong-ro\n",
      "1           bong-ro\n",
      "2           bong-ro\n",
      "3           bong-ro\n",
      "4           bong-ro\n",
      "            ...    \n",
      "122950    chinh-tri\n",
      "122951    chinh-tri\n",
      "122952    chinh-tri\n",
      "122953    chinh-tri\n",
      "122954    chinh-tri\n",
      "Name: label, Length: 122955, dtype: object 0          du-hoc\n",
      "1          du-hoc\n",
      "2          du-hoc\n",
      "3          du-hoc\n",
      "4          du-hoc\n",
      "           ...   \n",
      "30708    diem-tin\n",
      "30709    diem-tin\n",
      "30710    diem-tin\n",
      "30711    diem-tin\n",
      "30712    diem-tin\n",
      "Name: label, Length: 30713, dtype: object\n"
     ]
    }
   ],
   "source": [
    "X_train, X_test, y_train, y_test = data_train['content'], data_test['content'], data_train['label'], data_test['label']\n",
    "\n",
    "print(X_train, X_test, y_train, y_test)\n"
   ]
  },
  {
   "cell_type": "code",
   "execution_count": 77,
   "metadata": {
    "id": "-jlG3cZqcavB"
   },
   "outputs": [],
   "source": [
    "# for i in range(len(X_train)):\n",
    "#   X_train[i] = X_train[i].lower()"
   ]
  },
  {
   "cell_type": "code",
   "execution_count": 78,
   "metadata": {
    "id": "9qBAc7cvcyp0"
   },
   "outputs": [],
   "source": [
    "# for i in range(len(X_test)):\n",
    "#   X_test[i] = X_test[i].lower()"
   ]
  },
  {
   "cell_type": "code",
   "execution_count": 79,
   "metadata": {
    "colab": {
     "base_uri": "https://localhost:8080/"
    },
    "id": "w7IzC91Kc6vy",
    "outputId": "5580a33a-038d-4dbc-dc63-01291a5293a6"
   },
   "outputs": [
    {
     "name": "stdout",
     "output_type": "stream",
     "text": [
      "0         VBA by MB 2019 Game 21 : Hochiminh_City_Wings ...\n",
      "1         Tiêu_điểm NBA ngày 21/1 : LeBron_James và đồng...\n",
      "2         Playoffs miền Đông_NBA 2018 : Oladipo đe_doạ K...\n",
      "3         Xảy chân cuối trận , Knicks gục ngã đáng tiếc ...\n",
      "4         Đánh_bại Irving , Warriors nối dài mạch thắng ...\n",
      "                                ...                        \n",
      "122950    Gian_lận thi : Phần_mềm dùng từ 2016 , các kỳ ...\n",
      "122951    Siết chặt kỷ_luật , kỷ_cương trong công_tác xâ...\n",
      "122952    Về Hiệp_định Biên_giới Việt – Trung và Hiệp_đị...\n",
      "122953    Chỉ_đạo chiến_lược của Bộ_Chính_trị mùa Xuân 1...\n",
      "122954    Facebook , Google không chịu gỡ tin xấu độc : ...\n",
      "Name: content, Length: 122955, dtype: object 0        Triển_lãm du_học trung_học Mỹ , Canada , Austr...\n",
      "1        Chọn học ngành bác_sĩ nha_khoa tại MISD . MISD...\n",
      "2        Giảm 50% phí hoàn_tất thủ_tục du_học . Chương_...\n",
      "3        Đường vào Đại_học Tây_Úc , Australia . Taylors...\n",
      "4        Du học ngành Thiết kế thời trang tại Raf...\n",
      "                               ...                        \n",
      "30708    Đường_vành_đai phía Tây Đà_Nẵng : Ngưng dây_ch...\n",
      "30709    Dự_báo thời_tiết 22/6 : Hà_Nội nắng_nóng trên ...\n",
      "30710    Cà_Mau “ rót ” gần 100 tỷ đồng xử_lý khẩn_cấp ...\n",
      "30711    Bão_Podul đổ_bộ Quảng_Bình - KhoaHoc.tv. Sáng ...\n",
      "30712    Bão số 6 suy_yếu thành một vùng áp_thấp , Bắc_...\n",
      "Name: content, Length: 30713, dtype: object\n"
     ]
    }
   ],
   "source": [
    "print(X_train, X_test)"
   ]
  },
  {
   "cell_type": "code",
   "execution_count": 80,
   "metadata": {
    "colab": {
     "base_uri": "https://localhost:8080/"
    },
    "id": "x7i1VqIZ96cX",
    "outputId": "a03ba154-e792-47ce-f55f-ee92eb01238e"
   },
   "outputs": [
    {
     "name": "stdout",
     "output_type": "stream",
     "text": [
      "{'du-hoc': 700, 'nguoi-viet-5-chau': 583, 'kham-pha': 696, 'meo-di-xe': 291, 'kinh-te-vi-mo': 509, 'quan-su-diem-nong': 689, 'am-thuc': 443, 'tennis': 698, 'sach': 699, 'san-pham-khac': 587, 'chinh-tri': 667, 'may-tinh': 418, 'tin-du-lich': 699, 'doanh-nghiep': 700, 'bong-ro': 700, 'tin-nong': 699, 'truyen-tranh': 202, 'tu-van': 377, 'tinh-yeu-hon-nhan': 651, 'bat-dong-san': 699, 'thi-truong-xe': 696, 'te-nan-xa-hoi': 235, 'sao-chau-a': 698, 'suc-khoe-y-te': 684, 'vo-thuat': 567, 'thoi-trang': 471, 'the-gioi-quanh-ta': 612, 'san-khau-my-thuat': 594, 'diem-den': 389, 'cntt-vien-thong': 689, 'phim': 457, 'hang-hoa': 697, 'nhac': 236, 'giao-thong': 417, 'bong-da-viet-nam': 700, 'ho-so-pha-an': 194, 'kinh-te-the-gioi': 673, 'sao-au-my': 695, 'ebank': 699, 'tv-show': 328, 'dien-thoai': 644, 'nghien-cuu': 304, 'tinh-hinh-the-gioi': 699, 'dinh-duong-lam-dep': 432, 'sao-viet': 690, 'game': 689, 'sinh-vat-hoc': 695, 'the-thao-tong-hop': 691, 'chung-khoan': 700, 'tuyen-sinh-thi-cu': 699, 'lao-dong-viec-lam': 395, 'nha': 690, 'bong-da-quoc-te': 626, 'diem-tin': 321}\n"
     ]
    }
   ],
   "source": [
    "i = {}\n",
    "count = 0\n",
    "\n",
    "for d in y_test:\n",
    "    if d in i:\n",
    "        i[d] += 1;\n",
    "    else: \n",
    "        i[d] = 1\n",
    "print(i)"
   ]
  },
  {
   "cell_type": "code",
   "execution_count": 81,
   "metadata": {
    "colab": {
     "base_uri": "https://localhost:8080/"
    },
    "id": "GvYgqRgq-PRm",
    "outputId": "bb4fc91d-0799-448f-9ee0-aaec43bf34b2"
   },
   "outputs": [
    {
     "name": "stdout",
     "output_type": "stream",
     "text": [
      "{'bong-ro': 2800, 'tennis': 2796, 'tin-nong': 2798, 'sao-viet': 2761, 'vo-thuat': 2271, 'ebank': 2799, 'phim': 1829, 'thoi-trang': 1887, 'doanh-nghiep': 2800, 'the-gioi-quanh-ta': 2449, 'may-tinh': 1673, 'tv-show': 1316, 'the-thao-tong-hop': 2768, 'meo-di-xe': 1165, 'dien-thoai': 2579, 'cntt-vien-thong': 2756, 'kham-pha': 2787, 'chung-khoan': 2800, 'tinh-yeu-hon-nhan': 2608, 'lao-dong-viec-lam': 1583, 'kinh-te-vi-mo': 2036, 'te-nan-xa-hoi': 941, 'sinh-vat-hoc': 2784, 'bong-da-quoc-te': 2507, 'tin-du-lich': 2799, 'am-thuc': 1774, 'tuyen-sinh-thi-cu': 2796, 'nguoi-viet-5-chau': 2335, 'bong-da-viet-nam': 2800, 'diem-den': 1558, 'nghien-cuu': 1219, 'dinh-duong-lam-dep': 1731, 'giao-thong': 1670, 'du-hoc': 2800, 'nha': 2760, 'hang-hoa': 2789, 'san-khau-my-thuat': 2378, 'bat-dong-san': 2800, 'truyen-tranh': 811, 'sach': 2797, 'kinh-te-the-gioi': 2692, 'suc-khoe-y-te': 2740, 'ho-so-pha-an': 776, 'sao-au-my': 2782, 'diem-tin': 1288, 'quan-su-diem-nong': 2757, 'nhac': 946, 'thi-truong-xe': 2788, 'sao-chau-a': 2794, 'tu-van': 1508, 'game': 2757, 'san-pham-khac': 2348, 'tinh-hinh-the-gioi': 2798, 'chinh-tri': 2671}\n"
     ]
    }
   ],
   "source": [
    "i = {}\n",
    "count = 0\n",
    "\n",
    "for d in y_train:\n",
    "    if d in i:\n",
    "        i[d] += 1;\n",
    "    else: \n",
    "        i[d] = 1\n",
    "print(i)"
   ]
  },
  {
   "cell_type": "code",
   "execution_count": 82,
   "metadata": {
    "colab": {
     "base_uri": "https://localhost:8080/"
    },
    "id": "ghIPi8g2D8hw",
    "outputId": "9f1aadc6-b4c2-4170-dfd5-e3975e934eac"
   },
   "outputs": [
    {
     "name": "stdout",
     "output_type": "stream",
     "text": [
      "/content/drive/MyDrive/NLP_data\n"
     ]
    }
   ],
   "source": [
    "%cd /content/drive/MyDrive/NLP_data"
   ]
  },
  {
   "cell_type": "code",
   "execution_count": 83,
   "metadata": {
    "colab": {
     "base_uri": "https://localhost:8080/"
    },
    "id": "EbSKVyxOEoUP",
    "outputId": "fca2c4a9-0c1c-466a-9194-618a5e3efd31"
   },
   "outputs": [
    {
     "name": "stdout",
     "output_type": "stream",
     "text": [
      "/content/drive/MyDrive/NLP_data\n"
     ]
    }
   ],
   "source": [
    "!pwd"
   ]
  },
  {
   "cell_type": "code",
   "execution_count": 84,
   "metadata": {
    "id": "UMzpiBz8vHRO"
   },
   "outputs": [],
   "source": [
    "from sklearn.preprocessing import LabelEncoder\n",
    "\n",
    "encoder = LabelEncoder()\n",
    "\n",
    "y_train = encoder.fit_transform(y_train)\n",
    "y_test = encoder.fit_transform(y_test)"
   ]
  },
  {
   "cell_type": "code",
   "execution_count": 85,
   "metadata": {
    "colab": {
     "base_uri": "https://localhost:8080/"
    },
    "id": "SY6RpCsymjwA",
    "outputId": "431a8f55-fcad-4d07-8589-ee5f94c422bc"
   },
   "outputs": [
    {
     "name": "stdout",
     "output_type": "stream",
     "text": [
      "54\n"
     ]
    }
   ],
   "source": [
    "sum_label =list(encoder.classes_)\n",
    "\n",
    "print(len(sum_label))\n"
   ]
  },
  {
   "cell_type": "code",
   "execution_count": 86,
   "metadata": {
    "colab": {
     "base_uri": "https://localhost:8080/"
    },
    "id": "bpcIgfxA4NZl",
    "outputId": "5c02e818-4f6f-469c-a085-2c5ff50edda9"
   },
   "outputs": [
    {
     "name": "stdout",
     "output_type": "stream",
     "text": [
      "{4: 2800, 40: 2796, 46: 2798, 36: 2761, 53: 2271, 14: 2799, 29: 1829, 44: 1887, 12: 2800, 41: 2449, 23: 1673, 52: 1316, 42: 2768, 24: 1165, 10: 2579, 7: 2756, 19: 2787, 6: 2800, 48: 2608, 22: 1583, 21: 2036, 39: 941, 37: 2784, 2: 2507, 45: 2799, 0: 1774, 51: 2796, 26: 2335, 3: 2800, 8: 1558, 25: 1219, 11: 1731, 16: 1670, 13: 2800, 27: 2760, 17: 2789, 32: 2378, 1: 2800, 49: 811, 31: 2797, 20: 2692, 38: 2740, 18: 776, 34: 2782, 9: 1288, 30: 2757, 28: 946, 43: 2788, 35: 2794, 50: 1508, 15: 2757, 33: 2348, 47: 2798, 5: 2671}\n"
     ]
    }
   ],
   "source": [
    "i = {}\n",
    "count = 0\n",
    "\n",
    "for d in y_train:\n",
    "    if d in i:\n",
    "        i[d] += 1;\n",
    "    else: \n",
    "        i[d] = 1\n",
    "\n",
    "print(i)"
   ]
  },
  {
   "cell_type": "code",
   "execution_count": 87,
   "metadata": {
    "id": "F-u04sTEN0Fx"
   },
   "outputs": [],
   "source": [
    "from sklearn.feature_extraction.text import CountVectorizer\n",
    "from sklearn.feature_extraction.text import TfidfTransformer\n",
    "from sklearn.pipeline import Pipeline\n",
    "from sklearn.svm import LinearSVC\n",
    " \n",
    "\n",
    "text_clf = Pipeline([('vect', CountVectorizer(ngram_range=(1,1),\n",
    "                                             max_df=0.7,\n",
    "                                             max_features=None)), \n",
    "                     ('tfidf', TfidfTransformer()),\n",
    "                     ('clf', LinearSVC(C=5, max_iter=10000))\n",
    "                    ])\n",
    "\n",
    "text_clf = text_clf.fit(X_train, y_train)"
   ]
  },
  {
   "cell_type": "code",
   "execution_count": 90,
   "metadata": {
    "colab": {
     "base_uri": "https://localhost:8080/"
    },
    "id": "O3TQh5uxEqiR",
    "outputId": "dc7a5030-967e-42e8-9aa8-beb06d78f466"
   },
   "outputs": [
    {
     "name": "stdout",
     "output_type": "stream",
     "text": [
      "/content/drive/MyDrive\n"
     ]
    }
   ],
   "source": [
    "%cd .."
   ]
  },
  {
   "cell_type": "code",
   "execution_count": 92,
   "metadata": {
    "id": "3WRxaS3KD7M-"
   },
   "outputs": [],
   "source": [
    "import pickle\n",
    "pickle.dump(text_clf, open(os.path.join(\"Model_NLP\", \"SVM_54.pkl\"), 'wb'))"
   ]
  },
  {
   "cell_type": "code",
   "execution_count": 93,
   "metadata": {
    "id": "BpUuZuLtYip7"
   },
   "outputs": [],
   "source": [
    "y_pred = text_clf.predict(X_test)"
   ]
  },
  {
   "cell_type": "code",
   "execution_count": 94,
   "metadata": {
    "id": "3wzuVclnFDsF"
   },
   "outputs": [],
   "source": [
    "model = pickle.load(open(os.path.join(\"/content/drive/MyDrive/Model_NLP\",\"SVM_54.pkl\"), 'rb'))"
   ]
  },
  {
   "cell_type": "code",
   "execution_count": 95,
   "metadata": {
    "id": "58tpWUzYFP2s"
   },
   "outputs": [],
   "source": [
    "y_pred = model.predict(X_test)"
   ]
  },
  {
   "cell_type": "code",
   "execution_count": 96,
   "metadata": {
    "colab": {
     "base_uri": "https://localhost:8080/"
    },
    "id": "omVWlUQsu-jG",
    "outputId": "f204bde2-df52-4ae6-9946-65f4ac60c453"
   },
   "outputs": [
    {
     "name": "stdout",
     "output_type": "stream",
     "text": [
      "                    precision    recall  f1-score   support\n",
      "\n",
      "           am-thuc       0.88      0.88      0.88       443\n",
      "      bat-dong-san       0.94      0.94      0.94       699\n",
      "   bong-da-quoc-te       0.99      1.00      0.99       626\n",
      "  bong-da-viet-nam       0.99      0.99      0.99       700\n",
      "           bong-ro       0.99      1.00      1.00       700\n",
      "         chinh-tri       0.84      0.85      0.84       667\n",
      "       chung-khoan       0.95      0.93      0.94       700\n",
      "   cntt-vien-thong       0.83      0.82      0.83       689\n",
      "          diem-den       0.80      0.74      0.76       389\n",
      "          diem-tin       0.74      0.69      0.71       321\n",
      "        dien-thoai       0.87      0.90      0.89       644\n",
      "dinh-duong-lam-dep       0.78      0.78      0.78       432\n",
      "      doanh-nghiep       0.79      0.82      0.80       700\n",
      "            du-hoc       0.97      0.98      0.98       700\n",
      "             ebank       0.91      0.92      0.92       699\n",
      "              game       0.99      0.99      0.99       689\n",
      "        giao-thong       0.89      0.90      0.90       417\n",
      "          hang-hoa       0.89      0.88      0.89       697\n",
      "      ho-so-pha-an       0.89      0.83      0.86       194\n",
      "          kham-pha       0.97      0.97      0.97       696\n",
      "  kinh-te-the-gioi       0.86      0.89      0.88       673\n",
      "     kinh-te-vi-mo       0.80      0.76      0.78       509\n",
      " lao-dong-viec-lam       0.85      0.84      0.85       395\n",
      "          may-tinh       0.83      0.81      0.82       418\n",
      "         meo-di-xe       0.83      0.84      0.83       291\n",
      "        nghien-cuu       0.89      0.86      0.87       304\n",
      " nguoi-viet-5-chau       0.90      0.89      0.89       583\n",
      "               nha       0.96      0.96      0.96       690\n",
      "              nhac       0.91      0.92      0.92       236\n",
      "              phim       0.92      0.93      0.93       457\n",
      " quan-su-diem-nong       0.92      0.90      0.91       689\n",
      "              sach       0.94      0.95      0.95       699\n",
      " san-khau-my-thuat       0.92      0.94      0.93       594\n",
      "     san-pham-khac       0.84      0.81      0.82       587\n",
      "         sao-au-my       0.97      0.97      0.97       695\n",
      "        sao-chau-a       0.96      0.97      0.96       698\n",
      "          sao-viet       0.94      0.93      0.94       690\n",
      "      sinh-vat-hoc       0.93      0.95      0.94       695\n",
      "     suc-khoe-y-te       0.83      0.86      0.85       684\n",
      "     te-nan-xa-hoi       0.92      0.83      0.88       235\n",
      "            tennis       0.99      1.00      0.99       698\n",
      " the-gioi-quanh-ta       0.86      0.85      0.86       612\n",
      " the-thao-tong-hop       0.99      0.99      0.99       691\n",
      "     thi-truong-xe       0.94      0.93      0.93       696\n",
      "        thoi-trang       0.95      0.94      0.94       471\n",
      "       tin-du-lich       0.84      0.87      0.86       699\n",
      "          tin-nong       0.89      0.92      0.91       699\n",
      "tinh-hinh-the-gioi       0.89      0.91      0.90       699\n",
      " tinh-yeu-hon-nhan       0.90      0.89      0.89       651\n",
      "      truyen-tranh       0.97      0.97      0.97       202\n",
      "            tu-van       0.92      0.86      0.89       377\n",
      " tuyen-sinh-thi-cu       0.98      0.98      0.98       699\n",
      "           tv-show       0.90      0.92      0.91       328\n",
      "          vo-thuat       0.99      0.98      0.99       567\n",
      "\n",
      "          accuracy                           0.91     30713\n",
      "         macro avg       0.90      0.90      0.90     30713\n",
      "      weighted avg       0.91      0.91      0.91     30713\n",
      "\n"
     ]
    }
   ],
   "source": [
    "from sklearn.metrics import classification_report\n",
    "y_pred = encoder.inverse_transform(y_pred)\n",
    "y_test = encoder.inverse_transform(y_test)\n",
    "print(classification_report(y_test, y_pred))"
   ]
  },
  {
   "cell_type": "code",
   "execution_count": 97,
   "metadata": {
    "colab": {
     "base_uri": "https://localhost:8080/"
    },
    "id": "1uzt-T4YFch3",
    "outputId": "49e5ca84-2b69-4e56-ff08-a1eebc5cb011"
   },
   "outputs": [
    {
     "name": "stdout",
     "output_type": "stream",
     "text": [
      "                    precision    recall  f1-score   support\n",
      "\n",
      "           am-thuc       0.88      0.88      0.88       443\n",
      "      bat-dong-san       0.94      0.94      0.94       699\n",
      "   bong-da-quoc-te       0.99      1.00      0.99       626\n",
      "  bong-da-viet-nam       0.99      0.99      0.99       700\n",
      "           bong-ro       0.99      1.00      1.00       700\n",
      "         chinh-tri       0.84      0.85      0.84       667\n",
      "       chung-khoan       0.95      0.93      0.94       700\n",
      "   cntt-vien-thong       0.83      0.82      0.83       689\n",
      "          diem-den       0.80      0.74      0.76       389\n",
      "          diem-tin       0.74      0.69      0.71       321\n",
      "        dien-thoai       0.87      0.90      0.89       644\n",
      "dinh-duong-lam-dep       0.78      0.78      0.78       432\n",
      "      doanh-nghiep       0.79      0.82      0.80       700\n",
      "            du-hoc       0.97      0.98      0.98       700\n",
      "             ebank       0.91      0.92      0.92       699\n",
      "              game       0.99      0.99      0.99       689\n",
      "        giao-thong       0.89      0.90      0.90       417\n",
      "          hang-hoa       0.89      0.88      0.89       697\n",
      "      ho-so-pha-an       0.89      0.83      0.86       194\n",
      "          kham-pha       0.97      0.97      0.97       696\n",
      "  kinh-te-the-gioi       0.86      0.89      0.88       673\n",
      "     kinh-te-vi-mo       0.80      0.76      0.78       509\n",
      " lao-dong-viec-lam       0.85      0.84      0.85       395\n",
      "          may-tinh       0.83      0.81      0.82       418\n",
      "         meo-di-xe       0.83      0.84      0.83       291\n",
      "        nghien-cuu       0.89      0.86      0.87       304\n",
      " nguoi-viet-5-chau       0.90      0.89      0.89       583\n",
      "               nha       0.96      0.96      0.96       690\n",
      "              nhac       0.91      0.92      0.92       236\n",
      "              phim       0.92      0.93      0.93       457\n",
      " quan-su-diem-nong       0.92      0.90      0.91       689\n",
      "              sach       0.94      0.95      0.95       699\n",
      " san-khau-my-thuat       0.92      0.94      0.93       594\n",
      "     san-pham-khac       0.84      0.81      0.82       587\n",
      "         sao-au-my       0.97      0.97      0.97       695\n",
      "        sao-chau-a       0.96      0.97      0.96       698\n",
      "          sao-viet       0.94      0.93      0.94       690\n",
      "      sinh-vat-hoc       0.93      0.95      0.94       695\n",
      "     suc-khoe-y-te       0.83      0.86      0.85       684\n",
      "     te-nan-xa-hoi       0.92      0.83      0.88       235\n",
      "            tennis       0.99      1.00      0.99       698\n",
      " the-gioi-quanh-ta       0.86      0.85      0.86       612\n",
      " the-thao-tong-hop       0.99      0.99      0.99       691\n",
      "     thi-truong-xe       0.94      0.93      0.93       696\n",
      "        thoi-trang       0.95      0.94      0.94       471\n",
      "       tin-du-lich       0.84      0.87      0.86       699\n",
      "          tin-nong       0.89      0.92      0.91       699\n",
      "tinh-hinh-the-gioi       0.89      0.91      0.90       699\n",
      " tinh-yeu-hon-nhan       0.90      0.89      0.89       651\n",
      "      truyen-tranh       0.97      0.97      0.97       202\n",
      "            tu-van       0.92      0.86      0.89       377\n",
      " tuyen-sinh-thi-cu       0.98      0.98      0.98       699\n",
      "           tv-show       0.90      0.92      0.91       328\n",
      "          vo-thuat       0.99      0.98      0.99       567\n",
      "\n",
      "          accuracy                           0.91     30713\n",
      "         macro avg       0.90      0.90      0.90     30713\n",
      "      weighted avg       0.91      0.91      0.91     30713\n",
      "\n"
     ]
    }
   ],
   "source": [
    "print(classification_report(y_test,y_pred))"
   ]
  }
 ],
 "metadata": {
  "colab": {
   "collapsed_sections": [],
   "provenance": []
  },
  "gpuClass": "standard",
  "kernelspec": {
   "display_name": "Python 3 (ipykernel)",
   "language": "python",
   "name": "python3"
  },
  "language_info": {
   "codemirror_mode": {
    "name": "ipython",
    "version": 3
   },
   "file_extension": ".py",
   "mimetype": "text/x-python",
   "name": "python",
   "nbconvert_exporter": "python",
   "pygments_lexer": "ipython3",
   "version": "3.8.10"
  }
 },
 "nbformat": 4,
 "nbformat_minor": 1
}
